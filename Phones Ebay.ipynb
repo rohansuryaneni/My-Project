{
 "cells": [
  {
   "cell_type": "code",
   "execution_count": 1,
   "id": "d7ec9cf6",
   "metadata": {},
   "outputs": [],
   "source": [
    "import pandas as pd\n",
    "import numpy as np\n",
    "import ipywidgets as widgets\n",
    "from IPython.display import display, clear_output"
   ]
  },
  {
   "cell_type": "code",
   "execution_count": 2,
   "id": "06c70d8e",
   "metadata": {},
   "outputs": [],
   "source": [
    "import requests\n",
    "from bs4 import BeautifulSoup"
   ]
  },
  {
   "cell_type": "code",
   "execution_count": 3,
   "id": "c5eba5da",
   "metadata": {
    "scrolled": true
   },
   "outputs": [],
   "source": [
    "# Initialize lists to store phone models and prices\n",
    "phone_models = []\n",
    "phone_prices = []\n",
    "phone_condition = []\n",
    "phone_discount = []\n",
    "phone_prevprice = []\n",
    "phone_rating = []\n",
    "\n",
    "# Specify the number of pages you want to scrape\n",
    "num_pages = 10  # Change this to the number of pages you want to scrape\n",
    "\n",
    "for page in range(1,20):\n",
    "    # Define the eBay URL for the current page\n",
    "    url = f\"https://www.ebay.com/sch/i.html?_from=R40&_trksid=p4432023.m570.l1313&_nkw=phones&_sacat=0&_ipg=240&_pgn={page}\"\n",
    "\n",
    "    # Send an HTTP GET request to the eBay URL\n",
    "    response = requests.get(url)\n",
    "\n",
    "    # Check if the request was successful\n",
    "    if response.status_code == 200:\n",
    "        # Parse the HTML content of the page\n",
    "        soup = BeautifulSoup(response.text, \"html.parser\")\n",
    "\n",
    "        # Find phone listings\n",
    "        phone_listings = soup.find_all(\"div\", class_=\"s-item__info\")\n",
    "\n",
    "        # Extract data from each listing on the current page\n",
    "        for listing in phone_listings:\n",
    "            try:\n",
    "                model = listing.find(\"div\", class_=\"s-item__title\").text.strip()\n",
    "                price = listing.find(\"span\", class_=\"s-item__price\").text.strip()\n",
    "                condition = listing.find(\"span\", class_=\"SECONDARY_INFO\").text.strip()\n",
    "                discount = listing.find(\"span\", class_=\"s-item__discount\" ).text.strip()\n",
    "                prevprice = listing.find(\"span\", class_=\"s-item__trending-price\").text.strip()\n",
    "            \n",
    "                star_rating_elem = listing.find_all(\"svg\", class_=\"icon--star-filled-16\")\n",
    "                #star_rating = \"\"\n",
    "                star_icons = listing.find_all(\"svg\", class_=\"icon--star-half-16-colored\")\n",
    "                \n",
    "                if star_icons:\n",
    "                    star_rating = len(star_rating_elem) + 0.5\n",
    "                    \n",
    "                elif star_rating_elem:\n",
    "                    star_rating = len(star_rating_elem)\n",
    "                    \n",
    "                else:\n",
    "                    star_rating = \"N/A\"\n",
    "            \n",
    "            \n",
    "            \n",
    "                phone_models.append(model)\n",
    "                phone_prices.append(price)\n",
    "                phone_condition.append(condition)\n",
    "                phone_discount.append(discount)\n",
    "                phone_prevprice.append(prevprice)\n",
    "                phone_rating.append(star_rating)\n",
    "            except AttributeError:\n",
    "                # Handle cases where data is not found in a listing\n",
    "                pass\n",
    "    else:\n",
    "        print(f\"Failed to retrieve page {page}\")"
   ]
  },
  {
   "cell_type": "code",
   "execution_count": 4,
   "id": "1675731d",
   "metadata": {},
   "outputs": [],
   "source": [
    "Offer = pd.DataFrame(phone_discount)"
   ]
  },
  {
   "cell_type": "code",
   "execution_count": 5,
   "id": "035faff3",
   "metadata": {},
   "outputs": [],
   "source": [
    "Previous_Price = pd.DataFrame(phone_prevprice)"
   ]
  },
  {
   "cell_type": "code",
   "execution_count": 6,
   "id": "f35c92e0",
   "metadata": {},
   "outputs": [],
   "source": [
    "Model = pd.DataFrame(phone_models)"
   ]
  },
  {
   "cell_type": "code",
   "execution_count": 7,
   "id": "bdaa4474",
   "metadata": {},
   "outputs": [],
   "source": [
    "Price = pd.DataFrame(phone_prices)"
   ]
  },
  {
   "cell_type": "code",
   "execution_count": 8,
   "id": "74579421",
   "metadata": {},
   "outputs": [],
   "source": [
    "Condition = pd.DataFrame(phone_condition)"
   ]
  },
  {
   "cell_type": "code",
   "execution_count": 9,
   "id": "1b218cd3",
   "metadata": {},
   "outputs": [],
   "source": [
    "Rating = pd.DataFrame(phone_rating)"
   ]
  },
  {
   "cell_type": "code",
   "execution_count": 10,
   "id": "2713137a",
   "metadata": {},
   "outputs": [],
   "source": [
    "data = pd.concat([Price, Model, Condition, Offer, Previous_Price, Rating], axis=1)"
   ]
  },
  {
   "cell_type": "code",
   "execution_count": 11,
   "id": "a963c6d0",
   "metadata": {},
   "outputs": [],
   "source": [
    "data.columns = ['Price', 'Model', 'Condition', 'Offer', 'Previous Price', 'Rating']"
   ]
  },
  {
   "cell_type": "code",
   "execution_count": 12,
   "id": "7a1b9ecf",
   "metadata": {
    "scrolled": true
   },
   "outputs": [],
   "source": [
    "data['Previous Price'] = data['Previous Price'].str.replace('[^0-9.]', '', regex=True)"
   ]
  },
  {
   "cell_type": "code",
   "execution_count": 13,
   "id": "a2ce0dcf",
   "metadata": {},
   "outputs": [
    {
     "data": {
      "text/html": [
       "<div>\n",
       "<style scoped>\n",
       "    .dataframe tbody tr th:only-of-type {\n",
       "        vertical-align: middle;\n",
       "    }\n",
       "\n",
       "    .dataframe tbody tr th {\n",
       "        vertical-align: top;\n",
       "    }\n",
       "\n",
       "    .dataframe thead th {\n",
       "        text-align: right;\n",
       "    }\n",
       "</style>\n",
       "<table border=\"1\" class=\"dataframe\">\n",
       "  <thead>\n",
       "    <tr style=\"text-align: right;\">\n",
       "      <th></th>\n",
       "      <th>Price</th>\n",
       "      <th>Model</th>\n",
       "      <th>Condition</th>\n",
       "      <th>Offer</th>\n",
       "      <th>Previous Price</th>\n",
       "      <th>Rating</th>\n",
       "    </tr>\n",
       "  </thead>\n",
       "  <tbody>\n",
       "    <tr>\n",
       "      <th>0</th>\n",
       "      <td>$389.95</td>\n",
       "      <td>Apple iPhone 13 mini 128GB Factory Unlocked AT...</td>\n",
       "      <td>Good - Refurbished</td>\n",
       "      <td>44% off</td>\n",
       "      <td>699.00</td>\n",
       "      <td>5</td>\n",
       "    </tr>\n",
       "    <tr>\n",
       "      <th>1</th>\n",
       "      <td>$109.47</td>\n",
       "      <td>S23 Ultra Smartphone 7.3\" 4+64GB Android Facto...</td>\n",
       "      <td>Brand New</td>\n",
       "      <td>8% off</td>\n",
       "      <td>118.99</td>\n",
       "      <td>N/A</td>\n",
       "    </tr>\n",
       "    <tr>\n",
       "      <th>2</th>\n",
       "      <td>$137.07</td>\n",
       "      <td>S23 Ultra 8+256GB Smartphone 7.3\" Factory Unlo...</td>\n",
       "      <td>Brand New</td>\n",
       "      <td>8% off</td>\n",
       "      <td>148.99</td>\n",
       "      <td>N/A</td>\n",
       "    </tr>\n",
       "    <tr>\n",
       "      <th>3</th>\n",
       "      <td>$189.99</td>\n",
       "      <td>Samsung  Galaxy S21 5G 128GB G991U Fully Unloc...</td>\n",
       "      <td>Pre-Owned</td>\n",
       "      <td>76% off</td>\n",
       "      <td>799.99</td>\n",
       "      <td>N/A</td>\n",
       "    </tr>\n",
       "    <tr>\n",
       "      <th>4</th>\n",
       "      <td>$197.99</td>\n",
       "      <td>Samsung  Galaxy S21 5G 128GB G991U Fully Unloc...</td>\n",
       "      <td>Good - Refurbished</td>\n",
       "      <td>75% off</td>\n",
       "      <td>799.99</td>\n",
       "      <td>4.5</td>\n",
       "    </tr>\n",
       "    <tr>\n",
       "      <th>...</th>\n",
       "      <td>...</td>\n",
       "      <td>...</td>\n",
       "      <td>...</td>\n",
       "      <td>...</td>\n",
       "      <td>...</td>\n",
       "      <td>...</td>\n",
       "    </tr>\n",
       "    <tr>\n",
       "      <th>844</th>\n",
       "      <td>$574.95</td>\n",
       "      <td>Apple iPhone 12 Pro Max 256GB Verizon Smartpho...</td>\n",
       "      <td>Very Good - Refurbished</td>\n",
       "      <td>52% off</td>\n",
       "      <td>1199.00</td>\n",
       "      <td>5</td>\n",
       "    </tr>\n",
       "    <tr>\n",
       "      <th>845</th>\n",
       "      <td>$19.99</td>\n",
       "      <td>Samsung GT-E2121B Blue Cell Phone Internationa...</td>\n",
       "      <td>Brand New</td>\n",
       "      <td>50% off</td>\n",
       "      <td>39.99</td>\n",
       "      <td>N/A</td>\n",
       "    </tr>\n",
       "    <tr>\n",
       "      <th>846</th>\n",
       "      <td>$434.79</td>\n",
       "      <td>Apple iPhone 12 Pro, A2341, 256GB, Gold, Unloc...</td>\n",
       "      <td>Good - Refurbished</td>\n",
       "      <td>60% off</td>\n",
       "      <td>1099.00</td>\n",
       "      <td>N/A</td>\n",
       "    </tr>\n",
       "    <tr>\n",
       "      <th>847</th>\n",
       "      <td>$78.84</td>\n",
       "      <td>Samsung Galaxy S7 G930 32GB Unlocked GSM AT&amp;T ...</td>\n",
       "      <td>Open Box</td>\n",
       "      <td>5% off</td>\n",
       "      <td>82.99</td>\n",
       "      <td>4</td>\n",
       "    </tr>\n",
       "    <tr>\n",
       "      <th>848</th>\n",
       "      <td>$25.61</td>\n",
       "      <td>Unlocked Cellphone Dual SIM Big Flashlight Sen...</td>\n",
       "      <td>Brand New</td>\n",
       "      <td>5% off</td>\n",
       "      <td>26.96</td>\n",
       "      <td>N/A</td>\n",
       "    </tr>\n",
       "  </tbody>\n",
       "</table>\n",
       "<p>849 rows × 6 columns</p>\n",
       "</div>"
      ],
      "text/plain": [
       "       Price                                              Model  \\\n",
       "0    $389.95  Apple iPhone 13 mini 128GB Factory Unlocked AT...   \n",
       "1    $109.47  S23 Ultra Smartphone 7.3\" 4+64GB Android Facto...   \n",
       "2    $137.07  S23 Ultra 8+256GB Smartphone 7.3\" Factory Unlo...   \n",
       "3    $189.99  Samsung  Galaxy S21 5G 128GB G991U Fully Unloc...   \n",
       "4    $197.99  Samsung  Galaxy S21 5G 128GB G991U Fully Unloc...   \n",
       "..       ...                                                ...   \n",
       "844  $574.95  Apple iPhone 12 Pro Max 256GB Verizon Smartpho...   \n",
       "845   $19.99  Samsung GT-E2121B Blue Cell Phone Internationa...   \n",
       "846  $434.79  Apple iPhone 12 Pro, A2341, 256GB, Gold, Unloc...   \n",
       "847   $78.84  Samsung Galaxy S7 G930 32GB Unlocked GSM AT&T ...   \n",
       "848   $25.61  Unlocked Cellphone Dual SIM Big Flashlight Sen...   \n",
       "\n",
       "                   Condition    Offer Previous Price Rating  \n",
       "0         Good - Refurbished  44% off         699.00      5  \n",
       "1                  Brand New   8% off         118.99    N/A  \n",
       "2                  Brand New   8% off         148.99    N/A  \n",
       "3                  Pre-Owned  76% off         799.99    N/A  \n",
       "4         Good - Refurbished  75% off         799.99    4.5  \n",
       "..                       ...      ...            ...    ...  \n",
       "844  Very Good - Refurbished  52% off        1199.00      5  \n",
       "845                Brand New  50% off          39.99    N/A  \n",
       "846       Good - Refurbished  60% off        1099.00    N/A  \n",
       "847                 Open Box   5% off          82.99      4  \n",
       "848                Brand New   5% off          26.96    N/A  \n",
       "\n",
       "[849 rows x 6 columns]"
      ]
     },
     "execution_count": 13,
     "metadata": {},
     "output_type": "execute_result"
    }
   ],
   "source": [
    "data"
   ]
  },
  {
   "cell_type": "code",
   "execution_count": 14,
   "id": "caadae9a",
   "metadata": {
    "scrolled": false
   },
   "outputs": [
    {
     "data": {
      "application/vnd.jupyter.widget-view+json": {
       "model_id": "00bae18ef5a14cfdafe2085a749cfdad",
       "version_major": 2,
       "version_minor": 0
      },
      "text/plain": [
       "Dropdown(description='Select Condition:', options=('Good - Refurbished', 'Brand New', 'Pre-Owned', 'Very Good …"
      ]
     },
     "metadata": {},
     "output_type": "display_data"
    }
   ],
   "source": [
    "S = None\n",
    "\n",
    "def filter_data(change):\n",
    "    global S\n",
    "    selected_condition = change['new']\n",
    "    S = data[data['Condition'] == selected_condition]\n",
    "\n",
    "condition_dropdown = widgets.Dropdown(\n",
    "    options=data['Condition'].unique(),\n",
    "    description='Select Condition:'\n",
    ")\n",
    "condition_dropdown.observe(filter_data, names='value')\n",
    "\n",
    "display(condition_dropdown)"
   ]
  },
  {
   "cell_type": "code",
   "execution_count": 29,
   "id": "ae5a434f",
   "metadata": {
    "scrolled": true
   },
   "outputs": [
    {
     "data": {
      "text/html": [
       "<div>\n",
       "<style scoped>\n",
       "    .dataframe tbody tr th:only-of-type {\n",
       "        vertical-align: middle;\n",
       "    }\n",
       "\n",
       "    .dataframe tbody tr th {\n",
       "        vertical-align: top;\n",
       "    }\n",
       "\n",
       "    .dataframe thead th {\n",
       "        text-align: right;\n",
       "    }\n",
       "</style>\n",
       "<table border=\"1\" class=\"dataframe\">\n",
       "  <thead>\n",
       "    <tr style=\"text-align: right;\">\n",
       "      <th></th>\n",
       "      <th>Price</th>\n",
       "      <th>Model</th>\n",
       "      <th>Condition</th>\n",
       "      <th>Offer</th>\n",
       "      <th>Previous Price</th>\n",
       "      <th>Rating</th>\n",
       "    </tr>\n",
       "  </thead>\n",
       "  <tbody>\n",
       "    <tr>\n",
       "      <th>1</th>\n",
       "      <td>$109.47</td>\n",
       "      <td>S23 Ultra Smartphone 7.3\" 4+64GB Android Facto...</td>\n",
       "      <td>Brand New</td>\n",
       "      <td>8% off</td>\n",
       "      <td>118.99</td>\n",
       "      <td>N/A</td>\n",
       "    </tr>\n",
       "    <tr>\n",
       "      <th>2</th>\n",
       "      <td>$137.07</td>\n",
       "      <td>S23 Ultra 8+256GB Smartphone 7.3\" Factory Unlo...</td>\n",
       "      <td>Brand New</td>\n",
       "      <td>8% off</td>\n",
       "      <td>148.99</td>\n",
       "      <td>N/A</td>\n",
       "    </tr>\n",
       "    <tr>\n",
       "      <th>10</th>\n",
       "      <td>$59.99</td>\n",
       "      <td>2023 Factory Unlocked Android Cheap Cell Phone...</td>\n",
       "      <td>Brand New</td>\n",
       "      <td>25% off</td>\n",
       "      <td>79.99</td>\n",
       "      <td>N/A</td>\n",
       "    </tr>\n",
       "    <tr>\n",
       "      <th>12</th>\n",
       "      <td>$137.99</td>\n",
       "      <td>Unlocked 7.3\" i14 Pro Max Android 13 Smartphon...</td>\n",
       "      <td>Brand New</td>\n",
       "      <td>8% off</td>\n",
       "      <td>149.99</td>\n",
       "      <td>N/A</td>\n",
       "    </tr>\n",
       "    <tr>\n",
       "      <th>21</th>\n",
       "      <td>$128.79</td>\n",
       "      <td>2023 Reno10 Pro+ Smartphone 7.3\" 16GB+1TB Andr...</td>\n",
       "      <td>Brand New</td>\n",
       "      <td>8% off</td>\n",
       "      <td>139.99</td>\n",
       "      <td>N/A</td>\n",
       "    </tr>\n",
       "    <tr>\n",
       "      <th>...</th>\n",
       "      <td>...</td>\n",
       "      <td>...</td>\n",
       "      <td>...</td>\n",
       "      <td>...</td>\n",
       "      <td>...</td>\n",
       "      <td>...</td>\n",
       "    </tr>\n",
       "    <tr>\n",
       "      <th>841</th>\n",
       "      <td>$12.50</td>\n",
       "      <td>Samsung SGH-R200 (International) Olympics Mobi...</td>\n",
       "      <td>Brand New</td>\n",
       "      <td>50% off</td>\n",
       "      <td>24.99</td>\n",
       "      <td>N/A</td>\n",
       "    </tr>\n",
       "    <tr>\n",
       "      <th>842</th>\n",
       "      <td>$13.99</td>\n",
       "      <td>For Samsung Galaxy Z Flip 3 5G Heavy Duty Shoc...</td>\n",
       "      <td>Brand New</td>\n",
       "      <td>5% off</td>\n",
       "      <td>14.73</td>\n",
       "      <td>N/A</td>\n",
       "    </tr>\n",
       "    <tr>\n",
       "      <th>843</th>\n",
       "      <td>$22.49</td>\n",
       "      <td>Samsung SGH-N288 SLIM (AnyCall International) ...</td>\n",
       "      <td>Brand New</td>\n",
       "      <td>50% off</td>\n",
       "      <td>44.99</td>\n",
       "      <td>N/A</td>\n",
       "    </tr>\n",
       "    <tr>\n",
       "      <th>845</th>\n",
       "      <td>$19.99</td>\n",
       "      <td>Samsung GT-E2121B Blue Cell Phone Internationa...</td>\n",
       "      <td>Brand New</td>\n",
       "      <td>50% off</td>\n",
       "      <td>39.99</td>\n",
       "      <td>N/A</td>\n",
       "    </tr>\n",
       "    <tr>\n",
       "      <th>848</th>\n",
       "      <td>$25.61</td>\n",
       "      <td>Unlocked Cellphone Dual SIM Big Flashlight Sen...</td>\n",
       "      <td>Brand New</td>\n",
       "      <td>5% off</td>\n",
       "      <td>26.96</td>\n",
       "      <td>N/A</td>\n",
       "    </tr>\n",
       "  </tbody>\n",
       "</table>\n",
       "<p>210 rows × 6 columns</p>\n",
       "</div>"
      ],
      "text/plain": [
       "       Price                                              Model  Condition  \\\n",
       "1    $109.47  S23 Ultra Smartphone 7.3\" 4+64GB Android Facto...  Brand New   \n",
       "2    $137.07  S23 Ultra 8+256GB Smartphone 7.3\" Factory Unlo...  Brand New   \n",
       "10    $59.99  2023 Factory Unlocked Android Cheap Cell Phone...  Brand New   \n",
       "12   $137.99  Unlocked 7.3\" i14 Pro Max Android 13 Smartphon...  Brand New   \n",
       "21   $128.79  2023 Reno10 Pro+ Smartphone 7.3\" 16GB+1TB Andr...  Brand New   \n",
       "..       ...                                                ...        ...   \n",
       "841   $12.50  Samsung SGH-R200 (International) Olympics Mobi...  Brand New   \n",
       "842   $13.99  For Samsung Galaxy Z Flip 3 5G Heavy Duty Shoc...  Brand New   \n",
       "843   $22.49  Samsung SGH-N288 SLIM (AnyCall International) ...  Brand New   \n",
       "845   $19.99  Samsung GT-E2121B Blue Cell Phone Internationa...  Brand New   \n",
       "848   $25.61  Unlocked Cellphone Dual SIM Big Flashlight Sen...  Brand New   \n",
       "\n",
       "       Offer Previous Price Rating  \n",
       "1     8% off         118.99    N/A  \n",
       "2     8% off         148.99    N/A  \n",
       "10   25% off          79.99    N/A  \n",
       "12    8% off         149.99    N/A  \n",
       "21    8% off         139.99    N/A  \n",
       "..       ...            ...    ...  \n",
       "841  50% off          24.99    N/A  \n",
       "842   5% off          14.73    N/A  \n",
       "843  50% off          44.99    N/A  \n",
       "845  50% off          39.99    N/A  \n",
       "848   5% off          26.96    N/A  \n",
       "\n",
       "[210 rows x 6 columns]"
      ]
     },
     "execution_count": 29,
     "metadata": {},
     "output_type": "execute_result"
    }
   ],
   "source": [
    "S"
   ]
  },
  {
   "cell_type": "code",
   "execution_count": 30,
   "id": "f2d589c6",
   "metadata": {
    "scrolled": false
   },
   "outputs": [
    {
     "data": {
      "text/plain": [
       "210"
      ]
     },
     "execution_count": 30,
     "metadata": {},
     "output_type": "execute_result"
    }
   ],
   "source": [
    "len(S)"
   ]
  },
  {
   "cell_type": "code",
   "execution_count": 31,
   "id": "f8208381",
   "metadata": {},
   "outputs": [],
   "source": [
    "dup = S[S.duplicated(subset=['Model'], keep=False)]"
   ]
  },
  {
   "cell_type": "code",
   "execution_count": 32,
   "id": "41d2ca9a",
   "metadata": {
    "scrolled": true
   },
   "outputs": [
    {
     "data": {
      "text/html": [
       "<div>\n",
       "<style scoped>\n",
       "    .dataframe tbody tr th:only-of-type {\n",
       "        vertical-align: middle;\n",
       "    }\n",
       "\n",
       "    .dataframe tbody tr th {\n",
       "        vertical-align: top;\n",
       "    }\n",
       "\n",
       "    .dataframe thead th {\n",
       "        text-align: right;\n",
       "    }\n",
       "</style>\n",
       "<table border=\"1\" class=\"dataframe\">\n",
       "  <thead>\n",
       "    <tr style=\"text-align: right;\">\n",
       "      <th></th>\n",
       "      <th>Price</th>\n",
       "      <th>Model</th>\n",
       "      <th>Condition</th>\n",
       "      <th>Offer</th>\n",
       "      <th>Previous Price</th>\n",
       "      <th>Rating</th>\n",
       "    </tr>\n",
       "  </thead>\n",
       "  <tbody>\n",
       "    <tr>\n",
       "      <th>322</th>\n",
       "      <td>$132.99</td>\n",
       "      <td>New in Sealed Box Motorola Z4 XT1980-4 VERIZON...</td>\n",
       "      <td>Brand New</td>\n",
       "      <td>12% off</td>\n",
       "      <td>151.05</td>\n",
       "      <td>4.5</td>\n",
       "    </tr>\n",
       "    <tr>\n",
       "      <th>672</th>\n",
       "      <td>$155.99</td>\n",
       "      <td>New in Sealed Box Motorola Z4 XT1980-4 VERIZON...</td>\n",
       "      <td>Brand New</td>\n",
       "      <td>15% off</td>\n",
       "      <td>183.99</td>\n",
       "      <td>N/A</td>\n",
       "    </tr>\n",
       "    <tr>\n",
       "      <th>678</th>\n",
       "      <td>$54.00</td>\n",
       "      <td>NEW Doro 824C 8GB 4G LTE BELL MOBILITY UNLOCKE...</td>\n",
       "      <td>Brand New</td>\n",
       "      <td>94% off</td>\n",
       "      <td>838.99</td>\n",
       "      <td>4.5</td>\n",
       "    </tr>\n",
       "    <tr>\n",
       "      <th>723</th>\n",
       "      <td>$54.00</td>\n",
       "      <td>NEW Doro 824C 8GB 4G LTE BELL MOBILITY UNLOCKE...</td>\n",
       "      <td>Brand New</td>\n",
       "      <td>94% off</td>\n",
       "      <td>838.99</td>\n",
       "      <td>4.5</td>\n",
       "    </tr>\n",
       "    <tr>\n",
       "      <th>741</th>\n",
       "      <td>$262.99</td>\n",
       "      <td>Apple iPhone X 256G A1901 ATT T-MOB UNLOCKED S...</td>\n",
       "      <td>Brand New</td>\n",
       "      <td>15% off</td>\n",
       "      <td>308.99</td>\n",
       "      <td>4.5</td>\n",
       "    </tr>\n",
       "    <tr>\n",
       "      <th>800</th>\n",
       "      <td>$262.99</td>\n",
       "      <td>Apple iPhone X 256G A1901 ATT T-MOB UNLOCKED S...</td>\n",
       "      <td>Brand New</td>\n",
       "      <td>15% off</td>\n",
       "      <td>308.99</td>\n",
       "      <td>4.5</td>\n",
       "    </tr>\n",
       "  </tbody>\n",
       "</table>\n",
       "</div>"
      ],
      "text/plain": [
       "       Price                                              Model  Condition  \\\n",
       "322  $132.99  New in Sealed Box Motorola Z4 XT1980-4 VERIZON...  Brand New   \n",
       "672  $155.99  New in Sealed Box Motorola Z4 XT1980-4 VERIZON...  Brand New   \n",
       "678   $54.00  NEW Doro 824C 8GB 4G LTE BELL MOBILITY UNLOCKE...  Brand New   \n",
       "723   $54.00  NEW Doro 824C 8GB 4G LTE BELL MOBILITY UNLOCKE...  Brand New   \n",
       "741  $262.99  Apple iPhone X 256G A1901 ATT T-MOB UNLOCKED S...  Brand New   \n",
       "800  $262.99  Apple iPhone X 256G A1901 ATT T-MOB UNLOCKED S...  Brand New   \n",
       "\n",
       "       Offer Previous Price Rating  \n",
       "322  12% off         151.05    4.5  \n",
       "672  15% off         183.99    N/A  \n",
       "678  94% off         838.99    4.5  \n",
       "723  94% off         838.99    4.5  \n",
       "741  15% off         308.99    4.5  \n",
       "800  15% off         308.99    4.5  "
      ]
     },
     "execution_count": 32,
     "metadata": {},
     "output_type": "execute_result"
    }
   ],
   "source": [
    "dup"
   ]
  },
  {
   "cell_type": "code",
   "execution_count": 33,
   "id": "554f0588",
   "metadata": {},
   "outputs": [],
   "source": [
    "filtered_data = dup[~dup.duplicated(subset=['Model', 'Offer'], keep=False)]"
   ]
  },
  {
   "cell_type": "code",
   "execution_count": 34,
   "id": "afa55bcc",
   "metadata": {},
   "outputs": [],
   "source": [
    "unique_duplicates = [''] + list(filtered_data['Model'].unique())"
   ]
  },
  {
   "cell_type": "code",
   "execution_count": 35,
   "id": "910bbedf",
   "metadata": {},
   "outputs": [
    {
     "data": {
      "text/plain": [
       "['',\n",
       " 'New in Sealed Box Motorola Z4 XT1980-4 VERIZON ONLY 128G GRAY Smartphone WF']"
      ]
     },
     "execution_count": 35,
     "metadata": {},
     "output_type": "execute_result"
    }
   ],
   "source": [
    "unique_duplicates"
   ]
  },
  {
   "cell_type": "code",
   "execution_count": 36,
   "id": "79a18965",
   "metadata": {},
   "outputs": [
    {
     "data": {
      "application/vnd.jupyter.widget-view+json": {
       "model_id": "638d445f1e05441bb6f77a804ce1d13a",
       "version_major": 2,
       "version_minor": 0
      },
      "text/plain": [
       "Dropdown(description='Select a duplicate value:', options=('', 'New in Sealed Box Motorola Z4 XT1980-4 VERIZON…"
      ]
     },
     "metadata": {},
     "output_type": "display_data"
    },
    {
     "data": {
      "application/vnd.jupyter.widget-view+json": {
       "model_id": "ddc0460df9fb41cc90ce4644d764c8bf",
       "version_major": 2,
       "version_minor": 0
      },
      "text/plain": [
       "Output()"
      ]
     },
     "metadata": {},
     "output_type": "display_data"
    }
   ],
   "source": [
    "# Function to display data for a selected duplicate value\n",
    "def display_duplicate_data(change):\n",
    "    selected_value = change['new']\n",
    "    duplicate_data = S[S['Model'] == selected_value]\n",
    "    with output:\n",
    "        output.clear_output()\n",
    "        display(duplicate_data)\n",
    "\n",
    "# Create a dropdown widget to select a duplicate value\n",
    "dropdown = widgets.Dropdown(\n",
    "    options=unique_duplicates,  # Include an empty option\n",
    "    description='Select a duplicate value:'\n",
    ")\n",
    "\n",
    "\n",
    "# Create an output widget to display the selected duplicate data\n",
    "output = widgets.Output()\n",
    "\n",
    "# Link the SelectMultiple widget to the custom function\n",
    "dropdown.observe(display_duplicate_data, names='value')\n",
    "\n",
    "# Display the widgets\n",
    "display(dropdown)\n",
    "display(output)"
   ]
  },
  {
   "cell_type": "code",
   "execution_count": null,
   "id": "792aeec8",
   "metadata": {},
   "outputs": [],
   "source": []
  },
  {
   "cell_type": "code",
   "execution_count": null,
   "id": "f94169d6",
   "metadata": {},
   "outputs": [],
   "source": []
  }
 ],
 "metadata": {
  "kernelspec": {
   "display_name": "Python 3 (ipykernel)",
   "language": "python",
   "name": "python3"
  },
  "language_info": {
   "codemirror_mode": {
    "name": "ipython",
    "version": 3
   },
   "file_extension": ".py",
   "mimetype": "text/x-python",
   "name": "python",
   "nbconvert_exporter": "python",
   "pygments_lexer": "ipython3",
   "version": "3.11.4"
  }
 },
 "nbformat": 4,
 "nbformat_minor": 5
}
